{
 "cells": [
  {
   "cell_type": "code",
   "execution_count": 5,
   "id": "1a0895ee",
   "metadata": {},
   "outputs": [],
   "source": [
    "import numpy as np\n",
    "from scipy.stats import binom"
   ]
  },
  {
   "cell_type": "markdown",
   "id": "05081f1f",
   "metadata": {},
   "source": [
    "### In a typical Month, an Insurance agent presents life insurance plans to 40 potential customers. Historically, one in four such customers chooses to buy Life Insurance from this agent. Based on the relevant binomial distribution , answer the following questions :\n",
    "\n",
    "\n",
    "### 1. What is the probability that exactly 5 customers will buy life Insurance from this agent in the coming month ### ?\n"
   ]
  },
  {
   "cell_type": "code",
   "execution_count": 5,
   "id": "23b2ce17",
   "metadata": {},
   "outputs": [
    {
     "data": {
      "text/plain": [
       "0.027231742753245948"
      ]
     },
     "execution_count": 5,
     "metadata": {},
     "output_type": "execute_result"
    }
   ],
   "source": [
    "binom.pmf(5,40,0.25)"
   ]
  },
  {
   "cell_type": "markdown",
   "id": "1e8d9e31",
   "metadata": {},
   "source": [
    "### 2) What is the probability that not more than 10 customers will buy life insurance from this agent in the coming month ?"
   ]
  },
  {
   "cell_type": "code",
   "execution_count": 6,
   "id": "543d74f8",
   "metadata": {},
   "outputs": [
    {
     "data": {
      "text/plain": [
       "0.5839040780287896"
      ]
     },
     "execution_count": 6,
     "metadata": {},
     "output_type": "execute_result"
    }
   ],
   "source": [
    "binom.cdf(10,40,0.25)"
   ]
  },
  {
   "cell_type": "markdown",
   "id": "f5cfa227",
   "metadata": {},
   "source": [
    "### 3) What is the probability that at least 20 customers will buy life insurance from this agent in the coming month ?"
   ]
  },
  {
   "cell_type": "code",
   "execution_count": 7,
   "id": "b7c71e1a",
   "metadata": {},
   "outputs": [
    {
     "data": {
      "text/plain": [
       "0.0005724311071761386"
      ]
     },
     "execution_count": 7,
     "metadata": {},
     "output_type": "execute_result"
    }
   ],
   "source": [
    "binom.sf(19,40,0.25)"
   ]
  },
  {
   "cell_type": "markdown",
   "id": "96b03e37",
   "metadata": {},
   "source": [
    "### 4) Determine the mean and variance of the number of customers who will buy life insurance from this agent in the coming month."
   ]
  },
  {
   "cell_type": "code",
   "execution_count": 8,
   "id": "6912f5bb",
   "metadata": {},
   "outputs": [
    {
     "data": {
      "text/plain": [
       "(10.0, 7.5)"
      ]
     },
     "execution_count": 8,
     "metadata": {},
     "output_type": "execute_result"
    }
   ],
   "source": [
    "binom.stats(40,0.25) # it gives mean and variance "
   ]
  },
  {
   "cell_type": "markdown",
   "id": "1cc71b84",
   "metadata": {},
   "source": [
    "### The incidence of a certain diasease is such that on average 15% of worker suffer from it.  if some 20 workers are choosen at random find the probability that\n",
    "\n",
    "### 1) exactly 5 Worker suffer from the diasease"
   ]
  },
  {
   "cell_type": "code",
   "execution_count": 9,
   "id": "8696e810",
   "metadata": {},
   "outputs": [
    {
     "data": {
      "text/plain": [
       "0.10284517954557217"
      ]
     },
     "execution_count": 9,
     "metadata": {},
     "output_type": "execute_result"
    }
   ],
   "source": [
    "binom.pmf(5,20,0.15)"
   ]
  },
  {
   "cell_type": "markdown",
   "id": "2f153e37",
   "metadata": {},
   "source": [
    "### 2) More than 12 workers suffer from the diasease"
   ]
  },
  {
   "cell_type": "code",
   "execution_count": 10,
   "id": "5f440fb0",
   "metadata": {},
   "outputs": [
    {
     "data": {
      "text/plain": [
       "5.295123107511796e-07"
      ]
     },
     "execution_count": 10,
     "metadata": {},
     "output_type": "execute_result"
    }
   ],
   "source": [
    "binom.sf(12,20,0.15)"
   ]
  },
  {
   "cell_type": "markdown",
   "id": "5ad86aeb",
   "metadata": {},
   "source": [
    "### 3) At most 10 worker suffer from the diasease"
   ]
  },
  {
   "cell_type": "code",
   "execution_count": 12,
   "id": "af56139e",
   "metadata": {
    "scrolled": true
   },
   "outputs": [
    {
     "data": {
      "text/plain": [
       "0.9999613672517919"
      ]
     },
     "execution_count": 12,
     "metadata": {},
     "output_type": "execute_result"
    }
   ],
   "source": [
    "binom.cdf(10,20,0.15)"
   ]
  },
  {
   "cell_type": "markdown",
   "id": "3fbcc484",
   "metadata": {},
   "source": [
    "###  Q2. The prevalence of a disorder in a certain group of people is 35%. If 20 people from that group are chosen at random, what is the probability that:\n",
    "\n",
    "\n",
    "### a)None of them have that disorder"
   ]
  },
  {
   "cell_type": "code",
   "execution_count": 6,
   "id": "65855af2",
   "metadata": {},
   "outputs": [
    {
     "data": {
      "text/plain": [
       "0.00018124545836335003"
      ]
     },
     "execution_count": 6,
     "metadata": {},
     "output_type": "execute_result"
    }
   ],
   "source": [
    "binom.pmf(0,20,0.35)"
   ]
  },
  {
   "cell_type": "markdown",
   "id": "334cb058",
   "metadata": {},
   "source": [
    "### b) 10 of them have that disorder"
   ]
  },
  {
   "cell_type": "code",
   "execution_count": 7,
   "id": "ca8407d4",
   "metadata": {},
   "outputs": [
    {
     "data": {
      "text/plain": [
       "0.06861397201445474"
      ]
     },
     "execution_count": 7,
     "metadata": {},
     "output_type": "execute_result"
    }
   ],
   "source": [
    "binom.pmf(10,20,0.35)"
   ]
  },
  {
   "cell_type": "markdown",
   "id": "bd04efce",
   "metadata": {},
   "source": [
    "### c)At most 10 of them have that disorder"
   ]
  },
  {
   "cell_type": "code",
   "execution_count": 8,
   "id": "eb7b18d1",
   "metadata": {},
   "outputs": [
    {
     "data": {
      "text/plain": [
       "0.9468333856370539"
      ]
     },
     "execution_count": 8,
     "metadata": {},
     "output_type": "execute_result"
    }
   ],
   "source": [
    "binom.cdf(10,20,0.35)"
   ]
  },
  {
   "cell_type": "markdown",
   "id": "61b620eb",
   "metadata": {},
   "source": [
    "### d) At least 14 of them have that disorder"
   ]
  },
  {
   "cell_type": "code",
   "execution_count": 9,
   "id": "7094e538",
   "metadata": {},
   "outputs": [
    {
     "data": {
      "text/plain": [
       "0.0003105749704280381"
      ]
     },
     "execution_count": 9,
     "metadata": {},
     "output_type": "execute_result"
    }
   ],
   "source": [
    "binom.sf(14,20,0.35)\n"
   ]
  },
  {
   "cell_type": "code",
   "execution_count": 2,
   "id": "ee81f56d",
   "metadata": {},
   "outputs": [],
   "source": [
    "from scipy.stats import norm"
   ]
  },
  {
   "cell_type": "code",
   "execution_count": 4,
   "id": "ac3ead4d",
   "metadata": {},
   "outputs": [
    {
     "data": {
      "text/plain": [
       "2318.7757827723003"
      ]
     },
     "execution_count": 4,
     "metadata": {},
     "output_type": "execute_result"
    }
   ],
   "source": [
    "norm.ppf(0.9,1678,500)"
   ]
  },
  {
   "cell_type": "code",
   "execution_count": null,
   "id": "4df150ca",
   "metadata": {},
   "outputs": [],
   "source": []
  }
 ],
 "metadata": {
  "kernelspec": {
   "display_name": "Python 3 (ipykernel)",
   "language": "python",
   "name": "python3"
  },
  "language_info": {
   "codemirror_mode": {
    "name": "ipython",
    "version": 3
   },
   "file_extension": ".py",
   "mimetype": "text/x-python",
   "name": "python",
   "nbconvert_exporter": "python",
   "pygments_lexer": "ipython3",
   "version": "3.10.9"
  }
 },
 "nbformat": 4,
 "nbformat_minor": 5
}
