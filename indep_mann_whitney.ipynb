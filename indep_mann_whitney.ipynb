{
 "cells": [
  {
   "cell_type": "code",
   "execution_count": 1,
   "id": "11db5845",
   "metadata": {},
   "outputs": [],
   "source": [
    "import pandas as pd \n",
    "from scipy.stats import bartlett\n",
    "from scipy.stats import mannwhitneyu"
   ]
  },
  {
   "cell_type": "code",
   "execution_count": 2,
   "id": "1ae9e9eb",
   "metadata": {},
   "outputs": [],
   "source": [
    "co2 = pd.read_csv(r\"E:\\Adv Analytics\\Datasets\\CO2.csv\")"
   ]
  },
  {
   "cell_type": "code",
   "execution_count": 3,
   "id": "a1b9019d",
   "metadata": {},
   "outputs": [],
   "source": [
    "chilled = co2[co2['Treatment']==\"chilled\"]\n",
    "nonchilled = co2[co2['Treatment']==\"nonchilled\"]"
   ]
  },
  {
   "cell_type": "code",
   "execution_count": 4,
   "id": "42487d40",
   "metadata": {},
   "outputs": [
    {
     "name": "stdout",
     "output_type": "stream",
     "text": [
      "Test Statistic = 576.5\n",
      "P - Value = 0.006358173138178403\n"
     ]
    }
   ],
   "source": [
    "result = mannwhitneyu(chilled['uptake'], nonchilled['uptake'])\n",
    "test_stat = result[0]\n",
    "p_value = result[1]\n",
    "print(\"Test Statistic =\", test_stat)\n",
    "print(\"P - Value =\", p_value)"
   ]
  },
  {
   "cell_type": "code",
   "execution_count": 5,
   "id": "725f3c75",
   "metadata": {},
   "outputs": [],
   "source": [
    "## Conclusion: Means may be different"
   ]
  },
  {
   "cell_type": "code",
   "execution_count": 6,
   "id": "e7c99ddb",
   "metadata": {},
   "outputs": [],
   "source": [
    "puromycin = pd.read_csv(r\"E:\\Adv Analytics\\Datasets\\Puromycin.csv\")\n",
    "treated = puromycin[puromycin['state']=='treated']\n",
    "untreated = puromycin[puromycin['state']=='untreated']"
   ]
  },
  {
   "cell_type": "code",
   "execution_count": 7,
   "id": "8414a0f5",
   "metadata": {},
   "outputs": [
    {
     "name": "stdout",
     "output_type": "stream",
     "text": [
      "Test Statistic = 88.0\n",
      "P - Value = 0.18575772936738766\n"
     ]
    }
   ],
   "source": [
    "## H0: Variances equal   H1:Variances Unequal\n",
    "result = mannwhitneyu(treated['rate'], untreated['rate'])\n",
    "test_stat = result[0]\n",
    "p_value = result[1]\n",
    "print(\"Test Statistic =\", test_stat)\n",
    "print(\"P - Value =\", p_value)"
   ]
  },
  {
   "cell_type": "code",
   "execution_count": 8,
   "id": "9196c985",
   "metadata": {},
   "outputs": [],
   "source": [
    "## Conclusion: We do not reject H0 at 5% l.o.s.\n",
    "## Means may be equal"
   ]
  },
  {
   "cell_type": "code",
   "execution_count": null,
   "id": "93b95ff3",
   "metadata": {},
   "outputs": [],
   "source": []
  }
 ],
 "metadata": {
  "kernelspec": {
   "display_name": "Python 3 (ipykernel)",
   "language": "python",
   "name": "python3"
  },
  "language_info": {
   "codemirror_mode": {
    "name": "ipython",
    "version": 3
   },
   "file_extension": ".py",
   "mimetype": "text/x-python",
   "name": "python",
   "nbconvert_exporter": "python",
   "pygments_lexer": "ipython3",
   "version": "3.10.9"
  }
 },
 "nbformat": 4,
 "nbformat_minor": 5
}
