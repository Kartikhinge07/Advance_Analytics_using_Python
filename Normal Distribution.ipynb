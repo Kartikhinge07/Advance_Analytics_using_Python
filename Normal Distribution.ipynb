{
 "cells": [
  {
   "cell_type": "code",
   "execution_count": 2,
   "id": "f87560ea",
   "metadata": {},
   "outputs": [],
   "source": [
    "from scipy.stats import norm"
   ]
  },
  {
   "cell_type": "markdown",
   "id": "d99ebb38",
   "metadata": {},
   "source": [
    "### Example 1:\n",
    "### Suppose that the height of a female in a geographical region is normally distributed with μ = 64 inches and σ2 = 4 inches. \n",
    "\n",
    "• What is the probability of finding a woman who will be less than 58 \n",
    "inches tall ?"
   ]
  },
  {
   "cell_type": "code",
   "execution_count": 3,
   "id": "30ccfe55",
   "metadata": {},
   "outputs": [
    {
     "data": {
      "text/plain": [
       "0.06680720126885807"
      ]
     },
     "execution_count": 3,
     "metadata": {},
     "output_type": "execute_result"
    }
   ],
   "source": [
    "norm.cdf(58,64,4)"
   ]
  },
  {
   "cell_type": "markdown",
   "id": "0ff0c393",
   "metadata": {},
   "source": [
    "### Example 2 :\n",
    "### Suppose the weight of a typical male in a geographical region follows a normal distribution with μ = 180lb and σ2 = 30lb. \n",
    "\n",
    "\n",
    "What fraction of males weigh more than 200 pounds?"
   ]
  },
  {
   "cell_type": "code",
   "execution_count": 4,
   "id": "c33908f0",
   "metadata": {},
   "outputs": [
    {
     "data": {
      "text/plain": [
       "0.2524925375469229"
      ]
     },
     "execution_count": 4,
     "metadata": {},
     "output_type": "execute_result"
    }
   ],
   "source": [
    "norm.sf(200,180,30)"
   ]
  },
  {
   "cell_type": "markdown",
   "id": "2677f9f7",
   "metadata": {},
   "source": [
    "###  Q) A fast-food restaurant sells As and Bs. On a typical weekday the demand for As is normally distributed with mean 313 and standard deviation 57; the demand for Bs is normally distributed with mean 93 and standard deviation 22 .\n",
    "\n",
    "A ) How many As must the restaurant stock to be 98% sure of not running \n",
    "out of stock on a given day ?\n"
   ]
  },
  {
   "cell_type": "code",
   "execution_count": 5,
   "id": "a9640518",
   "metadata": {},
   "outputs": [
    {
     "data": {
      "text/plain": [
       "430.0636879060139"
      ]
     },
     "execution_count": 5,
     "metadata": {},
     "output_type": "execute_result"
    }
   ],
   "source": [
    "norm.ppf(0.98,313,57) "
   ]
  },
  {
   "cell_type": "markdown",
   "id": "d43a9ec4",
   "metadata": {},
   "source": [
    "B ) How many Bs must the restaurant stock to be 90% sure of not running \n",
    "out on a given day ?"
   ]
  },
  {
   "cell_type": "code",
   "execution_count": 6,
   "id": "c8fa585a",
   "metadata": {},
   "outputs": [
    {
     "data": {
      "text/plain": [
       "121.1941344419812"
      ]
     },
     "execution_count": 6,
     "metadata": {},
     "output_type": "execute_result"
    }
   ],
   "source": [
    "norm.ppf(0.9,93,22)"
   ]
  },
  {
   "cell_type": "markdown",
   "id": "24e6ab68",
   "metadata": {},
   "source": [
    "C ) If the restaurant stocks 450 As and 150 Bs for a given day, what is the \n",
    "probability that it will run out of As or Bs (or both) that day ? Assume that the \n",
    "demand for As and Bs are probabilistically independent."
   ]
  },
  {
   "cell_type": "code",
   "execution_count": 12,
   "id": "58170023",
   "metadata": {},
   "outputs": [
    {
     "name": "stdout",
     "output_type": "stream",
     "text": [
      "0.012866567392664459\n"
     ]
    }
   ],
   "source": [
    "pa= norm.sf(450,313,57)\n",
    "pb= norm.sf(150,93,22)\n",
    "print(pa+pb-(pa*pb))"
   ]
  },
  {
   "cell_type": "markdown",
   "id": "b6c3f5d0",
   "metadata": {},
   "source": [
    "### 1.Suppose IQ scores are normally distributed with mean 100 and standard deviation 15. What is the 95th percentile of the distribution of IQ scores?"
   ]
  },
  {
   "cell_type": "code",
   "execution_count": 13,
   "id": "44b41a47",
   "metadata": {},
   "outputs": [
    {
     "data": {
      "text/plain": [
       "124.67280440427209"
      ]
     },
     "execution_count": 13,
     "metadata": {},
     "output_type": "execute_result"
    }
   ],
   "source": [
    "norm.ppf(0.95,100,15)"
   ]
  },
  {
   "cell_type": "markdown",
   "id": "15fc0f3a",
   "metadata": {},
   "source": [
    "### 2.In an insurance company, daily amount of claims is normally distributed with mean 1678 with standard deviation 500. Find the following:\n",
    "\n",
    "\n",
    "a)Probability that amount exceeds $2000"
   ]
  },
  {
   "cell_type": "code",
   "execution_count": 14,
   "id": "95cd1901",
   "metadata": {},
   "outputs": [
    {
     "data": {
      "text/plain": [
       "0.2597877169966792"
      ]
     },
     "execution_count": 14,
     "metadata": {},
     "output_type": "execute_result"
    }
   ],
   "source": [
    "norm.sf(2000,1678,500)"
   ]
  },
  {
   "cell_type": "markdown",
   "id": "5696cb89",
   "metadata": {},
   "source": [
    "b)What is the minimum amount of claims for the top 10% of the daily claims?"
   ]
  },
  {
   "cell_type": "code",
   "execution_count": 16,
   "id": "46ded802",
   "metadata": {},
   "outputs": [
    {
     "data": {
      "text/plain": [
       "2318.7757827723003"
      ]
     },
     "execution_count": 16,
     "metadata": {},
     "output_type": "execute_result"
    }
   ],
   "source": [
    "norm.ppf(0.9,1678,500)"
   ]
  },
  {
   "cell_type": "markdown",
   "id": "0e7c4609",
   "metadata": {},
   "source": [
    "c)Probability that the amount is between $1000 and $1900."
   ]
  },
  {
   "cell_type": "code",
   "execution_count": 19,
   "id": "e75c16c0",
   "metadata": {},
   "outputs": [
    {
     "data": {
      "text/plain": [
       "0.5839291240185736"
      ]
     },
     "execution_count": 19,
     "metadata": {},
     "output_type": "execute_result"
    }
   ],
   "source": [
    "norm.cdf(1900,1678,500) - norm.cdf(1000,1678,500)"
   ]
  },
  {
   "cell_type": "markdown",
   "id": "7577ed6c",
   "metadata": {},
   "source": [
    "### Question:1\n",
    "### The heights of adult males in a population follow a normal distribution with a mean of 175 cm and a standard deviation of 6 cm. What is the probability that a randomly selected adult male has a height between 180 cm and 190 cm?"
   ]
  },
  {
   "cell_type": "code",
   "execution_count": 20,
   "id": "dde5d713",
   "metadata": {},
   "outputs": [
    {
     "data": {
      "text/plain": [
       "0.19611871563786698"
      ]
     },
     "execution_count": 20,
     "metadata": {},
     "output_type": "execute_result"
    }
   ],
   "source": [
    "norm.cdf(190,175,6) - norm.cdf(180,175,6)"
   ]
  },
  {
   "cell_type": "markdown",
   "id": "983e858b",
   "metadata": {},
   "source": [
    "### Question: 2\n",
    "### The weights of a certain population of individuals follow a normal distribution with a mean of 70 kg and a standard deviation of 5 kg. What is the probability that a randomly selected individual weighs more than 80 kg?"
   ]
  },
  {
   "cell_type": "code",
   "execution_count": 21,
   "id": "f7b56784",
   "metadata": {},
   "outputs": [
    {
     "data": {
      "text/plain": [
       "0.022750131948179195"
      ]
     },
     "execution_count": 21,
     "metadata": {},
     "output_type": "execute_result"
    }
   ],
   "source": [
    "norm.sf(80,70,5)"
   ]
  },
  {
   "cell_type": "markdown",
   "id": "d75ec641",
   "metadata": {},
   "source": [
    "### Question: 3\n",
    "### The scores on a standardized test are normally distributed with a mean of 75 and a standard deviation of 10. What is the probability of randomly selecting a student who scores above 80 on the test?"
   ]
  },
  {
   "cell_type": "code",
   "execution_count": 22,
   "id": "35da1a2a",
   "metadata": {},
   "outputs": [
    {
     "data": {
      "text/plain": [
       "0.3085375387259869"
      ]
     },
     "execution_count": 22,
     "metadata": {},
     "output_type": "execute_result"
    }
   ],
   "source": [
    "norm.sf(80,75,10)"
   ]
  },
  {
   "cell_type": "markdown",
   "id": "40cd2964",
   "metadata": {},
   "source": [
    "### Question: 4\n",
    "### The weights of a certain population of individuals follow a normal distribution with a mean of 60 kg and a standard deviation of 5 kg. What is the probability of randomly selecting an individual with a weight less than 65 kg?"
   ]
  },
  {
   "cell_type": "code",
   "execution_count": 23,
   "id": "59c33c60",
   "metadata": {},
   "outputs": [
    {
     "data": {
      "text/plain": [
       "0.8413447460685429"
      ]
     },
     "execution_count": 23,
     "metadata": {},
     "output_type": "execute_result"
    }
   ],
   "source": [
    "norm.cdf(65,60,5)"
   ]
  },
  {
   "cell_type": "markdown",
   "id": "c7c3232f",
   "metadata": {},
   "source": [
    "### Question: 5\n",
    "### The number of daily website visitors follows a normal distribution with a mean of 500 and a standard deviation of 50. What is the probability that on a randomly selected day, there are fewer than 400 visitors?"
   ]
  },
  {
   "cell_type": "code",
   "execution_count": 24,
   "id": "90b0b0c1",
   "metadata": {
    "scrolled": true
   },
   "outputs": [
    {
     "data": {
      "text/plain": [
       "0.022750131948179195"
      ]
     },
     "execution_count": 24,
     "metadata": {},
     "output_type": "execute_result"
    }
   ],
   "source": [
    "norm.cdf(400,500,50)"
   ]
  },
  {
   "cell_type": "markdown",
   "id": "3991ec28",
   "metadata": {},
   "source": [
    "### page 244 Q-38\n",
    "38. The distribution of SAT scores in math for an incoming class of business students has a mean of 610 and \n",
    "standard deviation of 20. Assume that the scores are \n",
    "normally distributed.\n",
    "\n",
    "a. Find the probability that an individual’s SAT \n",
    "score is less than 600.\n",
    "\n",
    "b. Find the probability that an individual’s SAT \n",
    "score is between 590 and 620.\n",
    "\n",
    "c. Find the probability that an individual’s SAT \n",
    "score is greater than 650.\n",
    "\n",
    "d. What scores will the top 5% of students have?\n",
    "\n",
    "e. Find the standardized values for students scoring \n",
    "540, 600, 650, and 700 on the test. Explain what \n",
    "these mean."
   ]
  },
  {
   "cell_type": "markdown",
   "id": "3a4d0e0f",
   "metadata": {},
   "source": [
    "a. Find the probability that an individual’s SAT \n",
    "score is less than 600."
   ]
  },
  {
   "cell_type": "code",
   "execution_count": 25,
   "id": "307882ff",
   "metadata": {},
   "outputs": [
    {
     "data": {
      "text/plain": [
       "0.3085375387259869"
      ]
     },
     "execution_count": 25,
     "metadata": {},
     "output_type": "execute_result"
    }
   ],
   "source": [
    "norm.cdf(600,610,20)"
   ]
  },
  {
   "cell_type": "markdown",
   "id": "98c49ea5",
   "metadata": {},
   "source": [
    "b. Find the probability that an individual’s SAT \n",
    "score is between 590 and 620."
   ]
  },
  {
   "cell_type": "code",
   "execution_count": 26,
   "id": "def5ef04",
   "metadata": {
    "scrolled": true
   },
   "outputs": [
    {
     "data": {
      "text/plain": [
       "0.532807207342556"
      ]
     },
     "execution_count": 26,
     "metadata": {},
     "output_type": "execute_result"
    }
   ],
   "source": [
    "norm.cdf(620,610,20)- norm.cdf(590,610,20)"
   ]
  },
  {
   "cell_type": "markdown",
   "id": "fe40363c",
   "metadata": {},
   "source": [
    "c. Find the probability that an individual’s SAT \n",
    "score is greater than 650."
   ]
  },
  {
   "cell_type": "code",
   "execution_count": 27,
   "id": "27a392fd",
   "metadata": {},
   "outputs": [
    {
     "data": {
      "text/plain": [
       "0.022750131948179195"
      ]
     },
     "execution_count": 27,
     "metadata": {},
     "output_type": "execute_result"
    }
   ],
   "source": [
    "norm.sf(650,610,20)"
   ]
  },
  {
   "cell_type": "markdown",
   "id": "5399c3c9",
   "metadata": {},
   "source": [
    "d. What scores will the top 5% of students have?"
   ]
  },
  {
   "cell_type": "code",
   "execution_count": 28,
   "id": "2d7643e6",
   "metadata": {},
   "outputs": [
    {
     "data": {
      "text/plain": [
       "642.8970725390294"
      ]
     },
     "execution_count": 28,
     "metadata": {},
     "output_type": "execute_result"
    }
   ],
   "source": [
    "norm.ppf(0.95,610,20)"
   ]
  },
  {
   "cell_type": "code",
   "execution_count": null,
   "id": "584ad91f",
   "metadata": {},
   "outputs": [],
   "source": []
  }
 ],
 "metadata": {
  "kernelspec": {
   "display_name": "Python 3 (ipykernel)",
   "language": "python",
   "name": "python3"
  },
  "language_info": {
   "codemirror_mode": {
    "name": "ipython",
    "version": 3
   },
   "file_extension": ".py",
   "mimetype": "text/x-python",
   "name": "python",
   "nbconvert_exporter": "python",
   "pygments_lexer": "ipython3",
   "version": "3.10.9"
  }
 },
 "nbformat": 4,
 "nbformat_minor": 5
}
