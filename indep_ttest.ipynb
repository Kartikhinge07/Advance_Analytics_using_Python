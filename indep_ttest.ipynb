{
 "cells": [
  {
   "cell_type": "code",
   "execution_count": 1,
   "id": "3db22b4f",
   "metadata": {},
   "outputs": [],
   "source": [
    "import pandas as pd \n",
    "from scipy.stats import bartlett\n",
    "from scipy.stats import ttest_ind"
   ]
  },
  {
   "cell_type": "code",
   "execution_count": 2,
   "id": "54d763d2",
   "metadata": {},
   "outputs": [],
   "source": [
    "co2 = pd.read_csv(r\"E:\\Adv Analytics\\Datasets\\CO2.csv\")"
   ]
  },
  {
   "cell_type": "code",
   "execution_count": 4,
   "id": "7e3fe28e",
   "metadata": {},
   "outputs": [],
   "source": [
    "chilled = co2[co2['Treatment']==\"chilled\"]\n",
    "nonchilled = co2[co2['Treatment']==\"nonchilled\"]"
   ]
  },
  {
   "cell_type": "code",
   "execution_count": 5,
   "id": "19e8c585",
   "metadata": {},
   "outputs": [],
   "source": [
    "## H0: Variances equal   H1:Variances Unequal\n",
    "result = bartlett(chilled['uptake'], nonchilled['uptake'])\n",
    "test_stat = result[0]\n",
    "p_value = result[1]"
   ]
  },
  {
   "cell_type": "code",
   "execution_count": 6,
   "id": "f66221d1",
   "metadata": {},
   "outputs": [
    {
     "name": "stdout",
     "output_type": "stream",
     "text": [
      "Test Statistic = 0.5315695885641828\n",
      "P - Value = 0.46594771841246396\n"
     ]
    }
   ],
   "source": [
    "print(\"Test Statistic =\", test_stat)\n",
    "print(\"P - Value =\", p_value)"
   ]
  },
  {
   "cell_type": "markdown",
   "id": "ae7b2ed9",
   "metadata": {},
   "source": [
    "### Conclusion: We do not reject H0 at 5% l.o.s.\n",
    "### Variances may be equal"
   ]
  },
  {
   "cell_type": "code",
   "execution_count": 7,
   "id": "efa703dc",
   "metadata": {},
   "outputs": [
    {
     "name": "stdout",
     "output_type": "stream",
     "text": [
      "Test Statistic = -3.0484611149819503\n",
      "P - Value = 0.0030957332525416484\n"
     ]
    }
   ],
   "source": [
    "result = ttest_ind(chilled['uptake'], nonchilled['uptake'],\n",
    "          equal_var=True)\n",
    "test_stat = result[0]\n",
    "p_value = result[1]\n",
    "print(\"Test Statistic =\", test_stat)\n",
    "print(\"P - Value =\", p_value)"
   ]
  },
  {
   "cell_type": "markdown",
   "id": "d3ddb03d",
   "metadata": {},
   "source": [
    "### Conclusion: We reject H0 at 5% l.o.s.\n",
    "### Means may be different."
   ]
  },
  {
   "cell_type": "code",
   "execution_count": 9,
   "id": "ae07b974",
   "metadata": {},
   "outputs": [
    {
     "name": "stdout",
     "output_type": "stream",
     "text": [
      "Test Statistic = -3.0484611149819503\n",
      "P - Value = 0.0015478666262708242\n"
     ]
    }
   ],
   "source": [
    "######### Lower tailed\n",
    "\n",
    "result = ttest_ind(chilled['uptake'], nonchilled['uptake'],\n",
    "          alternative=\"less\", equal_var=True)\n",
    "test_stat = result[0]\n",
    "p_value = result[1]\n",
    "print(\"Test Statistic =\", test_stat)\n",
    "print(\"P - Value =\", p_value)"
   ]
  },
  {
   "cell_type": "markdown",
   "id": "6b02ad68",
   "metadata": {},
   "source": [
    "### Conclusion: We reject H0 at 5% l.o.s.\n",
    "### Means of chilled may be less than mean of nonchilled"
   ]
  },
  {
   "cell_type": "code",
   "execution_count": null,
   "id": "9765d3ea",
   "metadata": {},
   "outputs": [],
   "source": []
  },
  {
   "cell_type": "code",
   "execution_count": null,
   "id": "6eff4bc3",
   "metadata": {},
   "outputs": [],
   "source": [
    "################# Puromycin ######################"
   ]
  },
  {
   "cell_type": "code",
   "execution_count": 11,
   "id": "84ddc1af",
   "metadata": {},
   "outputs": [],
   "source": [
    "puromycin = pd.read_csv(r\"E:\\Adv Analytics\\Datasets\\Puromycin.csv\")\n",
    "treated = puromycin[puromycin['state']=='treated']\n",
    "untreated = puromycin[puromycin['state']=='untreated']"
   ]
  },
  {
   "cell_type": "code",
   "execution_count": 12,
   "id": "d13352fb",
   "metadata": {},
   "outputs": [
    {
     "name": "stdout",
     "output_type": "stream",
     "text": [
      "Test Statistic = 1.3347300574703427\n",
      "P - Value = 0.2479654757261583\n"
     ]
    }
   ],
   "source": [
    "## H0: Variances equal   H1:Variances Unequal\n",
    "result = bartlett(treated['rate'], untreated['rate'])\n",
    "test_stat = result[0]\n",
    "p_value = result[1]\n",
    "print(\"Test Statistic =\", test_stat)\n",
    "print(\"P - Value =\", p_value)"
   ]
  },
  {
   "cell_type": "markdown",
   "id": "21486990",
   "metadata": {},
   "source": [
    "### Conclusion: We do not reject H0 at 5% l.o.s.\n",
    "### Variances may be equal"
   ]
  },
  {
   "cell_type": "code",
   "execution_count": 13,
   "id": "e4664303",
   "metadata": {},
   "outputs": [
    {
     "name": "stdout",
     "output_type": "stream",
     "text": [
      "Test Statistic = 1.6112266721746469\n",
      "P - Value = 0.1220595563419023\n"
     ]
    }
   ],
   "source": [
    "result = ttest_ind(treated['rate'], untreated['rate'],\n",
    "                   equal_var=True)\n",
    "test_stat = result[0]\n",
    "p_value = result[1]\n",
    "print(\"Test Statistic =\", test_stat)\n",
    "print(\"P - Value =\", p_value)"
   ]
  },
  {
   "cell_type": "markdown",
   "id": "151818ec",
   "metadata": {},
   "source": [
    "### Conclusion: We do not reject H0 at 5% l.o.s.\n",
    "### Means may be equal."
   ]
  }
 ],
 "metadata": {
  "kernelspec": {
   "display_name": "Python 3 (ipykernel)",
   "language": "python",
   "name": "python3"
  },
  "language_info": {
   "codemirror_mode": {
    "name": "ipython",
    "version": 3
   },
   "file_extension": ".py",
   "mimetype": "text/x-python",
   "name": "python",
   "nbconvert_exporter": "python",
   "pygments_lexer": "ipython3",
   "version": "3.10.9"
  }
 },
 "nbformat": 4,
 "nbformat_minor": 5
}
