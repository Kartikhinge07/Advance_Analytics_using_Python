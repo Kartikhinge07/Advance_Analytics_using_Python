{
 "cells": [
  {
   "cell_type": "code",
   "execution_count": 1,
   "id": "3d9cce15",
   "metadata": {},
   "outputs": [],
   "source": [
    "from scipy.stats import poisson"
   ]
  },
  {
   "cell_type": "code",
   "execution_count": null,
   "id": "7439de74",
   "metadata": {},
   "outputs": [],
   "source": []
  },
  {
   "cell_type": "markdown",
   "id": "d0fd8377",
   "metadata": {},
   "source": [
    "###  The annual number of industrial accidents occurring in a particular manufacturing plant is known to follow Poisson distribution with mean 12.\n",
    "\n",
    "\n",
    "a) What is the probability of observing exactly 5 accidents at this plant during \n",
    "the coming year ?"
   ]
  },
  {
   "cell_type": "code",
   "execution_count": 13,
   "id": "bc646ec5",
   "metadata": {},
   "outputs": [
    {
     "data": {
      "text/plain": [
       "0.012740638735861376"
      ]
     },
     "execution_count": 13,
     "metadata": {},
     "output_type": "execute_result"
    }
   ],
   "source": [
    "poisson.pmf(5,12)"
   ]
  },
  {
   "cell_type": "markdown",
   "id": "d5b29040",
   "metadata": {},
   "source": [
    "b) What is the probability of observing not more than 12 accidents at this plant\n",
    "the coming year ?"
   ]
  },
  {
   "cell_type": "code",
   "execution_count": 5,
   "id": "077857c9",
   "metadata": {},
   "outputs": [
    {
     "data": {
      "text/plain": [
       "0.5759652485730645"
      ]
     },
     "execution_count": 5,
     "metadata": {},
     "output_type": "execute_result"
    }
   ],
   "source": [
    "poisson.cdf(12,12)"
   ]
  },
  {
   "cell_type": "markdown",
   "id": "8589034a",
   "metadata": {},
   "source": [
    "c) What is the probability of observing at least 15 accidents at this plant during \n",
    "the coming year ?"
   ]
  },
  {
   "cell_type": "code",
   "execution_count": 7,
   "id": "cdc4f5c4",
   "metadata": {},
   "outputs": [
    {
     "data": {
      "text/plain": [
       "0.2279754676964551"
      ]
     },
     "execution_count": 7,
     "metadata": {},
     "output_type": "execute_result"
    }
   ],
   "source": [
    "poisson.sf(14,12)"
   ]
  },
  {
   "cell_type": "markdown",
   "id": "d6cce847",
   "metadata": {},
   "source": [
    "d) What is the probability of observing between 10 and 15 accidents (inclusive) at \n",
    "this plant during the coming year ?"
   ]
  },
  {
   "cell_type": "code",
   "execution_count": 8,
   "id": "41aafe80",
   "metadata": {},
   "outputs": [
    {
     "data": {
      "text/plain": [
       "0.6020234907796708"
      ]
     },
     "execution_count": 8,
     "metadata": {},
     "output_type": "execute_result"
    }
   ],
   "source": [
    "poisson.cdf(15,12)-poisson.cdf(9,12)"
   ]
  },
  {
   "cell_type": "markdown",
   "id": "cd483341",
   "metadata": {},
   "source": [
    "### 1.The number of calls received per day by a Customer Care division is observed to follow Poisson Distribution with mean calls as 56. Find the following:\n",
    "\n",
    "\n",
    "a)Probability that it may get more than 70 calls in a day"
   ]
  },
  {
   "cell_type": "code",
   "execution_count": 9,
   "id": "34a847d5",
   "metadata": {},
   "outputs": [
    {
     "data": {
      "text/plain": [
       "0.029824687242845115"
      ]
     },
     "execution_count": 9,
     "metadata": {},
     "output_type": "execute_result"
    }
   ],
   "source": [
    "poisson.sf(70,56)"
   ]
  },
  {
   "cell_type": "markdown",
   "id": "2498dbdb",
   "metadata": {},
   "source": [
    "b) Probability that less than 20 calls are received in a day"
   ]
  },
  {
   "cell_type": "code",
   "execution_count": 10,
   "id": "7fc3dd20",
   "metadata": {},
   "outputs": [
    {
     "data": {
      "text/plain": [
       "2.7725236743267197e-08"
      ]
     },
     "execution_count": 10,
     "metadata": {},
     "output_type": "execute_result"
    }
   ],
   "source": [
    "poisson.cdf(20,56)"
   ]
  },
  {
   "cell_type": "markdown",
   "id": "7ed2add6",
   "metadata": {},
   "source": [
    "### 2.The number of customers served at a counter per hour are 4. \n",
    "### Find the following:\n",
    "\n",
    "\n",
    "a.Probability that more than 5 customers will be served in an hour"
   ]
  },
  {
   "cell_type": "code",
   "execution_count": 11,
   "id": "84aa83bb",
   "metadata": {},
   "outputs": [
    {
     "data": {
      "text/plain": [
       "0.2148696129695948"
      ]
     },
     "execution_count": 11,
     "metadata": {},
     "output_type": "execute_result"
    }
   ],
   "source": [
    "poisson.sf(5,4)"
   ]
  },
  {
   "cell_type": "markdown",
   "id": "226624a1",
   "metadata": {},
   "source": [
    " b.Probability that less than 3 customers will be served in an hour"
   ]
  },
  {
   "cell_type": "code",
   "execution_count": 12,
   "id": "fec8cc8f",
   "metadata": {},
   "outputs": [
    {
     "data": {
      "text/plain": [
       "0.43347012036670896"
      ]
     },
     "execution_count": 12,
     "metadata": {},
     "output_type": "execute_result"
    }
   ],
   "source": [
    "poisson.cdf(3,4)"
   ]
  }
 ],
 "metadata": {
  "kernelspec": {
   "display_name": "Python 3 (ipykernel)",
   "language": "python",
   "name": "python3"
  },
  "language_info": {
   "codemirror_mode": {
    "name": "ipython",
    "version": 3
   },
   "file_extension": ".py",
   "mimetype": "text/x-python",
   "name": "python",
   "nbconvert_exporter": "python",
   "pygments_lexer": "ipython3",
   "version": "3.10.9"
  }
 },
 "nbformat": 4,
 "nbformat_minor": 5
}
